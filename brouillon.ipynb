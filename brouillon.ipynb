{
 "cells": [
  {
   "cell_type": "markdown",
   "metadata": {},
   "source": [
    "L'hyperplan affine de $\\mathbb{R}^3$ donné par l'équation : \n",
    "$$ \\mathcal{S} : \\, x+y+z = 1 $$\n",
    "est dirigé par les vecteurs $\\mathbf{v}_1 = \\begin{pmatrix} 1 \\\\ 0 \\\\ -1\\end{pmatrix}$ et $\\mathbf{v}_2 = \\begin{pmatrix} 0 \\\\ 1 \\\\ -1\\end{pmatrix}$. On pose la matrice $\\mathbf{V} = [\\mathbf{v}_1, \\mathbf{v}_2]$ :\n",
    "$$\\mathbf{V} =  \\begin{pmatrix} 1 & 0 \\\\ 0 & 1 \\\\ -1 & -1\\end{pmatrix} $$\n",
    "\n",
    "La matrice de projection sur la direction $\\overrightarrow{\\mathcal{S}}$ de $\\mathcal{S}$ est donnée par $\\mathbf{P} =\\mathbf{V} \\left(\\mathbf{V}^T \\mathbf{V} \\right)^{-1}\\mathbf{V}^T $  "
   ]
  },
  {
   "cell_type": "code",
   "execution_count": 1,
   "metadata": {},
   "outputs": [],
   "source": [
    "import numpy as np"
   ]
  },
  {
   "cell_type": "code",
   "execution_count": 2,
   "metadata": {},
   "outputs": [],
   "source": [
    "V = np.array([[1,0],[0,1],[-1,-1]])"
   ]
  },
  {
   "cell_type": "code",
   "execution_count": 3,
   "metadata": {},
   "outputs": [],
   "source": [
    "P = V @ np.linalg.inv(V.T @ V) @ V.T"
   ]
  },
  {
   "cell_type": "code",
   "execution_count": 10,
   "metadata": {},
   "outputs": [
    {
     "data": {
      "text/plain": [
       "array([[ 0.66666667, -0.33333333, -0.33333333],\n",
       "       [-0.33333333,  0.66666667, -0.33333333],\n",
       "       [-0.33333333, -0.33333333,  0.66666667]])"
      ]
     },
     "execution_count": 10,
     "metadata": {},
     "output_type": "execute_result"
    }
   ],
   "source": [
    "P"
   ]
  },
  {
   "cell_type": "markdown",
   "metadata": {},
   "source": [
    "Donc la matrice de projection\n",
    " $$\\mathbf{P} = \\dfrac{1}{3}\\cdot\\begin{pmatrix} 2 & -1 & -1 \\\\ -1 & 2 & -1 \\\\ -1 & -1 & 2\\end{pmatrix} $$"
   ]
  },
  {
   "cell_type": "code",
   "execution_count": 8,
   "metadata": {},
   "outputs": [],
   "source": [
    "p_1 = np.array([1,-2,4])\n",
    "p_2 = np.array([1,0,4])"
   ]
  },
  {
   "cell_type": "code",
   "execution_count": 7,
   "metadata": {},
   "outputs": [
    {
     "data": {
      "text/plain": [
       "array([1, 4])"
      ]
     },
     "execution_count": 7,
     "metadata": {},
     "output_type": "execute_result"
    }
   ],
   "source": [
    "p_2"
   ]
  },
  {
   "cell_type": "code",
   "execution_count": 9,
   "metadata": {},
   "outputs": [
    {
     "data": {
      "text/plain": [
       "array([-0.66666667, -1.66666667,  2.33333333])"
      ]
     },
     "execution_count": 9,
     "metadata": {},
     "output_type": "execute_result"
    }
   ],
   "source": [
    "P @ p_2"
   ]
  },
  {
   "cell_type": "code",
   "execution_count": 13,
   "metadata": {},
   "outputs": [
    {
     "data": {
      "text/plain": [
       "array([[2, 1],\n",
       "       [1, 2]])"
      ]
     },
     "execution_count": 13,
     "metadata": {},
     "output_type": "execute_result"
    },
    {
     "ename": "",
     "evalue": "",
     "output_type": "error",
     "traceback": [
      "\u001b[1;31mLe Kernel s’est bloqué lors de l’exécution du code dans la cellule active ou une cellule précédente. Veuillez vérifier le code dans la ou les cellules pour identifier une cause possible de l’échec. Cliquez <a href='https://aka.ms/vscodeJupyterKernelCrash'>ici</a> pour plus d’informations. Pour plus d’informations, consultez Jupyter <a href='command:jupyter.viewOutput'>log</a>."
     ]
    }
   ],
   "source": [
    "V.T @ V"
   ]
  },
  {
   "cell_type": "code",
   "execution_count": null,
   "metadata": {},
   "outputs": [],
   "source": [
    "\n",
    "def generate_simplex_grid(n, resolution):\n",
    "    # Initialiser la liste pour stocker les points du simplex\n",
    "    simplex_points = []\n",
    "\n",
    "    # Générer tous les points du simplex en utilisant une grille régulière\n",
    "    for i in range(resolution + 1):\n",
    "        for j in range(resolution - i + 1):\n",
    "            # Calculer les coordonnées normalisées\n",
    "            x = i / resolution\n",
    "            y = j / resolution\n",
    "            z = 1 - x - y if n == 3 else 0  # En dimension 3, la somme des coordonnées doit être 1\n",
    "\n",
    "            # Ajouter le point au simplex si les coordonnées sont valides\n",
    "            if x + y + z <= 1:\n",
    "                simplex_points.append([x, y, z])\n",
    "\n",
    "    return np.array(simplex_points)\n",
    "\n",
    "# Exemple d'utilisation pour un simplex unité en dimension 2 avec une résolution de 10\n",
    "n = 2\n",
    "resolution = 10\n",
    "simplex_grid = generate_simplex_grid(n, resolution)\n",
    "\n",
    "# Afficher les points du simplex\n",
    "print(\"Points du simplex unité en dimension\", n, \":\")\n",
    "print(simplex_grid)\n"
   ]
  }
 ],
 "metadata": {
  "kernelspec": {
   "display_name": "Python 3",
   "language": "python",
   "name": "python3"
  },
  "language_info": {
   "codemirror_mode": {
    "name": "ipython",
    "version": 3
   },
   "file_extension": ".py",
   "mimetype": "text/x-python",
   "name": "python",
   "nbconvert_exporter": "python",
   "pygments_lexer": "ipython3",
   "version": "3.9.7"
  }
 },
 "nbformat": 4,
 "nbformat_minor": 2
}
